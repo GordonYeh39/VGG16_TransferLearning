{
 "cells": [
  {
   "cell_type": "markdown",
   "metadata": {
    "id": "vOCeR0_7M4X1"
   },
   "source": [
    "# Download Data and Pre-Trained Model"
   ]
  },
  {
   "cell_type": "code",
   "execution_count": 1,
   "metadata": {
    "colab": {
     "base_uri": "https://localhost:8080/",
     "height": 52
    },
    "executionInfo": {
     "elapsed": 563,
     "status": "ok",
     "timestamp": 1604748829814,
     "user": {
      "displayName": "Gordon Yeh",
      "photoUrl": "",
      "userId": "04228464037500899416"
     },
     "user_tz": 300
    },
    "id": "eiHDnLDSp30_",
    "outputId": "bb42b75b-5f2d-49f0-af62-60092cd9ecb2"
   },
   "outputs": [
    {
     "name": "stdout",
     "output_type": "stream",
     "text": [
      "Drive already mounted at /content/drive; to attempt to forcibly remount, call drive.mount(\"/content/drive\", force_remount=True).\n"
     ]
    },
    {
     "data": {
      "application/vnd.google.colaboratory.intrinsic+json": {
       "type": "string"
      },
      "text/plain": [
       "'/content/drive/My Drive/Colab'"
      ]
     },
     "execution_count": 1,
     "metadata": {
      "tags": []
     },
     "output_type": "execute_result"
    }
   ],
   "source": [
    "import os, sys\n",
    "from google.colab import drive\n",
    "drive.mount('/content/drive')\n",
    "os.chdir('/content/drive/My Drive/Colab')\n",
    "os.getcwd()"
   ]
  },
  {
   "cell_type": "code",
   "execution_count": 2,
   "metadata": {
    "executionInfo": {
     "elapsed": 563,
     "status": "ok",
     "timestamp": 1604748829817,
     "user": {
      "displayName": "Gordon Yeh",
      "photoUrl": "",
      "userId": "04228464037500899416"
     },
     "user_tz": 300
    },
    "id": "MoTLzML3qA1z"
   },
   "outputs": [],
   "source": [
    "# !wget https://s3.amazonaws.com/matroid-web/datasets/agegender_cleaned.tar.gz -P './data'\n",
    "# !wget https://m-training.s3-us-west-2.amazonaws.com/dlchallenge/vgg_face_matconvnet.tar.gz -P './data'\n",
    "# !tar -xvf ./data/agegender_cleaned.tar.gz \n",
    "# !tar -xvf ./data/vgg_face_matconvnet.tar.gz"
   ]
  },
  {
   "cell_type": "code",
   "execution_count": 3,
   "metadata": {
    "executionInfo": {
     "elapsed": 563,
     "status": "ok",
     "timestamp": 1604748829819,
     "user": {
      "displayName": "Gordon Yeh",
      "photoUrl": "",
      "userId": "04228464037500899416"
     },
     "user_tz": 300
    },
    "id": "4qFOIM3oxUAS"
   },
   "outputs": [],
   "source": [
    "# !pip install tensorflow==1.14.0\n",
    "# !pip install keras==2.2.5\n",
    "# !pip list | grep keras"
   ]
  },
  {
   "cell_type": "code",
   "execution_count": 4,
   "metadata": {
    "executionInfo": {
     "elapsed": 10419,
     "status": "ok",
     "timestamp": 1604748839677,
     "user": {
      "displayName": "Gordon Yeh",
      "photoUrl": "",
      "userId": "04228464037500899416"
     },
     "user_tz": 300
    },
    "id": "7nlFKhljpvzw"
   },
   "outputs": [],
   "source": [
    "import scipy.io\n",
    "mat = scipy.io.loadmat('./vgg_face_matconvnet/data/vgg_face.mat', matlab_compatible=False, struct_as_record=False)"
   ]
  },
  {
   "cell_type": "markdown",
   "metadata": {
    "id": "4RdB9pDuNfWB"
   },
   "source": [
    "# Check Structure"
   ]
  },
  {
   "cell_type": "code",
   "execution_count": 5,
   "metadata": {
    "executionInfo": {
     "elapsed": 7114,
     "status": "ok",
     "timestamp": 1604748841316,
     "user": {
      "displayName": "Gordon Yeh",
      "photoUrl": "",
      "userId": "04228464037500899416"
     },
     "user_tz": 300
    },
    "id": "p0yo0H2jpvzz"
   },
   "outputs": [],
   "source": [
    "import numpy as np\n",
    "from keras.models import Model, Sequential\n",
    "from keras.layers import Input, Convolution2D, ZeroPadding2D, MaxPooling2D, Flatten, Dense, Dropout, Activation, BatchNormalization\n",
    "from keras.preprocessing.image import load_img, save_img, img_to_array\n",
    "from keras.applications.imagenet_utils import preprocess_input\n",
    "from keras.preprocessing import image\n",
    "from keras.models import load_model"
   ]
  },
  {
   "cell_type": "code",
   "execution_count": 6,
   "metadata": {
    "colab": {
     "base_uri": "https://localhost:8080/"
    },
    "executionInfo": {
     "elapsed": 7111,
     "status": "ok",
     "timestamp": 1604748841318,
     "user": {
      "displayName": "Gordon Yeh",
      "photoUrl": "",
      "userId": "04228464037500899416"
     },
     "user_tz": 300
    },
    "id": "venLWtj_pvz5",
    "outputId": "fd917a7e-92a9-4022-ae53-4cc6307596aa"
   },
   "outputs": [
    {
     "data": {
      "text/plain": [
       "(1, 39)"
      ]
     },
     "execution_count": 6,
     "metadata": {
      "tags": []
     },
     "output_type": "execute_result"
    }
   ],
   "source": [
    "net = mat['net'][0][0]\n",
    "ref_model_layers = net.layers\n",
    "ref_model_layers.shape"
   ]
  },
  {
   "cell_type": "code",
   "execution_count": 7,
   "metadata": {
    "colab": {
     "base_uri": "https://localhost:8080/"
    },
    "executionInfo": {
     "elapsed": 7109,
     "status": "ok",
     "timestamp": 1604748841320,
     "user": {
      "displayName": "Gordon Yeh",
      "photoUrl": "",
      "userId": "04228464037500899416"
     },
     "user_tz": 300
    },
    "id": "gnzyAm2ppvz9",
    "outputId": "0c6f1aae-2a32-4a47-ccdb-836639c305a3"
   },
   "outputs": [
    {
     "name": "stdout",
     "output_type": "stream",
     "text": [
      "['conv1_1']\n",
      "['relu1_1']\n",
      "['conv1_2']\n",
      "['relu1_2']\n",
      "['pool1']\n",
      "['conv2_1']\n",
      "['relu2_1']\n",
      "['conv2_2']\n",
      "['relu2_2']\n",
      "['pool2']\n",
      "['conv3_1']\n",
      "['relu3_1']\n",
      "['conv3_2']\n",
      "['relu3_2']\n",
      "['conv3_3']\n",
      "['relu3_3']\n",
      "['pool3']\n",
      "['conv4_1']\n",
      "['relu4_1']\n",
      "['conv4_2']\n",
      "['relu4_2']\n",
      "['conv4_3']\n",
      "['relu4_3']\n",
      "['pool4']\n",
      "['conv5_1']\n",
      "['relu5_1']\n",
      "['conv5_2']\n",
      "['relu5_2']\n",
      "['conv5_3']\n",
      "['relu5_3']\n",
      "['pool5']\n",
      "['fc6']\n",
      "['relu6']\n",
      "['dropout6']\n",
      "['fc7']\n",
      "['relu7']\n",
      "['dropout7']\n",
      "['fc8']\n",
      "['softmax']\n"
     ]
    }
   ],
   "source": [
    "ref_model_layers = net.layers[0]\n",
    "for layer in ref_model_layers:\n",
    "    print(layer[0][0].name)"
   ]
  },
  {
   "cell_type": "code",
   "execution_count": 8,
   "metadata": {
    "executionInfo": {
     "elapsed": 8964,
     "status": "ok",
     "timestamp": 1604748843177,
     "user": {
      "displayName": "Gordon Yeh",
      "photoUrl": "",
      "userId": "04228464037500899416"
     },
     "user_tz": 300
    },
    "id": "onB9ilF0pxLI"
   },
   "outputs": [],
   "source": [
    "model = Sequential()\n",
    "model.add(ZeroPadding2D((1,1),input_shape=(224,224, 3)))\n",
    "model.add(Convolution2D(64, (3, 3), name= 'conv1_1'))\n",
    "model.add(Activation('relu', name='relu1_1'))\n",
    "model.add(ZeroPadding2D((1,1)))\n",
    "model.add(Convolution2D(64, (3, 3), name= 'conv1_2'))\n",
    "model.add(Activation('relu', name='relu1_2'))\n",
    "model.add(MaxPooling2D((2,2), strides=(2,2), name='pool1'))\n",
    "\n",
    "model.add(ZeroPadding2D((1,1)))\n",
    "model.add(Convolution2D(128, (3, 3), name= 'conv2_1'))\n",
    "model.add(Activation('relu', name='relu2_1'))\n",
    "model.add(ZeroPadding2D((1,1)))\n",
    "model.add(Convolution2D(128, (3, 3), name= 'conv2_2'))\n",
    "model.add(Activation('relu', name='relu2_2'))\n",
    "model.add(MaxPooling2D((2,2), strides=(2,2), name='pool2'))\n",
    "\n",
    "model.add(ZeroPadding2D((1,1)))\n",
    "model.add(Convolution2D(256, (3, 3), name= 'conv3_1'))\n",
    "model.add(Activation('relu', name='relu3_1'))\n",
    "model.add(ZeroPadding2D((1,1)))\n",
    "model.add(Convolution2D(256, (3, 3), name= 'conv3_2'))\n",
    "model.add(Activation('relu', name='relu3_2'))\n",
    "model.add(ZeroPadding2D((1,1)))\n",
    "model.add(Convolution2D(256, (3, 3), name= 'conv3_3'))\n",
    "model.add(Activation('relu', name='relu3_3'))\n",
    "model.add(MaxPooling2D((2,2), strides=(2,2), name='pool3'))\n",
    "\n",
    "model.add(ZeroPadding2D((1,1)))\n",
    "model.add(Convolution2D(512, (3, 3), name= 'conv4_1'))\n",
    "model.add(Activation('relu', name='relu4_1'))\n",
    "model.add(ZeroPadding2D((1,1)))\n",
    "model.add(Convolution2D(512, (3, 3), name= 'conv4_2'))\n",
    "model.add(Activation('relu', name='relu4_2'))\n",
    "model.add(ZeroPadding2D((1,1)))\n",
    "model.add(Convolution2D(512, (3, 3), name= 'conv4_3'))\n",
    "model.add(Activation('relu', name='relu4_3'))\n",
    "model.add(MaxPooling2D((2,2), strides=(2,2), name='pool4'))\n",
    "\n",
    "model.add(ZeroPadding2D((1,1)))\n",
    "model.add(Convolution2D(512, (3, 3), name= 'conv5_1'))\n",
    "model.add(Activation('relu', name='relu5_1'))\n",
    "model.add(ZeroPadding2D((1,1)))\n",
    "model.add(Convolution2D(512, (3, 3), name= 'conv5_2'))\n",
    "model.add(Activation('relu', name='relu5_2'))\n",
    "model.add(ZeroPadding2D((1,1)))\n",
    "model.add(Convolution2D(512, (3, 3), name= 'conv5_3'))\n",
    "model.add(Activation('relu', name='relu5_3'))\n",
    "model.add(MaxPooling2D((2,2), strides=(2,2), name='pool5'))\n",
    "\n",
    "model.add(Convolution2D(4096, (7, 7), name= 'fc6'))\n",
    "model.add(Activation('relu', name='relu6'))\n",
    "model.add(Dropout(0.5, name='dropout6'))\n",
    "model.add(Convolution2D(4096, (1, 1), name= 'fc7'))\n",
    "model.add(Activation('relu', name='relu7'))\n",
    "model.add(Dropout(0.5, name='dropout7'))\n",
    "model.add(Convolution2D(2622, (1, 1), name= 'fc8'))\n",
    "model.add(Activation('relu'))\n",
    "model.add(Flatten())\n",
    "model.add(Activation('sigmoid', name= 'sigmoid'))"
   ]
  },
  {
   "cell_type": "code",
   "execution_count": 9,
   "metadata": {
    "executionInfo": {
     "elapsed": 8963,
     "status": "ok",
     "timestamp": 1604748843178,
     "user": {
      "displayName": "Gordon Yeh",
      "photoUrl": "",
      "userId": "04228464037500899416"
     },
     "user_tz": 300
    },
    "id": "O6lXfZJppv0A"
   },
   "outputs": [],
   "source": [
    "num_of_ref_model_layers = ref_model_layers.shape[0]\n",
    "base_model_layer_names = [layer.name for layer in model.layers]"
   ]
  },
  {
   "cell_type": "code",
   "execution_count": 10,
   "metadata": {
    "executionInfo": {
     "elapsed": 8963,
     "status": "ok",
     "timestamp": 1604748843179,
     "user": {
      "displayName": "Gordon Yeh",
      "photoUrl": "",
      "userId": "04228464037500899416"
     },
     "user_tz": 300
    },
    "id": "0m0X2QMBs1j2"
   },
   "outputs": [],
   "source": [
    "basemodel_layer_names = base_model_layer_names[:44]\n",
    "model_layer_names = base_model_layer_names[44:]"
   ]
  },
  {
   "cell_type": "code",
   "execution_count": 11,
   "metadata": {
    "colab": {
     "base_uri": "https://localhost:8080/"
    },
    "executionInfo": {
     "elapsed": 8959,
     "status": "ok",
     "timestamp": 1604748843179,
     "user": {
      "displayName": "Gordon Yeh",
      "photoUrl": "",
      "userId": "04228464037500899416"
     },
     "user_tz": 300
    },
    "id": "D-uvCA-qpv0C",
    "outputId": "6624cb5d-dc2a-4055-c0e4-333262a58f50"
   },
   "outputs": [
    {
     "name": "stdout",
     "output_type": "stream",
     "text": [
      "conv1_1 :  (3, 3, 3, 64)\n",
      "conv1_2 :  (3, 3, 64, 64)\n",
      "conv2_1 :  (3, 3, 64, 128)\n",
      "conv2_2 :  (3, 3, 128, 128)\n",
      "conv3_1 :  (3, 3, 128, 256)\n",
      "conv3_2 :  (3, 3, 256, 256)\n",
      "conv3_3 :  (3, 3, 256, 256)\n",
      "conv4_1 :  (3, 3, 256, 512)\n",
      "conv4_2 :  (3, 3, 512, 512)\n",
      "conv4_3 :  (3, 3, 512, 512)\n",
      "conv5_1 :  (3, 3, 512, 512)\n",
      "conv5_2 :  (3, 3, 512, 512)\n",
      "conv5_3 :  (3, 3, 512, 512)\n",
      "fc6 :  (7, 7, 512, 4096)\n",
      "fc7 :  (1, 1, 4096, 4096)\n",
      "fc8 :  (1, 1, 4096, 2622)\n"
     ]
    }
   ],
   "source": [
    "for layer in model.layers:\n",
    "    layer_name = layer.name\n",
    "    try:\n",
    "        print(layer_name,\": \",layer.weights[0].shape)\n",
    "    except:\n",
    "        print(\"\",end='')\n",
    "        #print(layer_name)"
   ]
  },
  {
   "cell_type": "code",
   "execution_count": 12,
   "metadata": {
    "colab": {
     "base_uri": "https://localhost:8080/"
    },
    "executionInfo": {
     "elapsed": 9093,
     "status": "ok",
     "timestamp": 1604748843317,
     "user": {
      "displayName": "Gordon Yeh",
      "photoUrl": "",
      "userId": "04228464037500899416"
     },
     "user_tz": 300
    },
    "id": "TbVaoVELpv0E",
    "outputId": "a665d53e-6810-4310-9347-215de73a3dc9"
   },
   "outputs": [
    {
     "name": "stdout",
     "output_type": "stream",
     "text": [
      "conv1_1 :  (3, 3, 3, 64)\n",
      "conv1_2 :  (3, 3, 64, 64)\n",
      "conv2_1 :  (3, 3, 64, 128)\n",
      "conv2_2 :  (3, 3, 128, 128)\n",
      "conv3_1 :  (3, 3, 128, 256)\n",
      "conv3_2 :  (3, 3, 256, 256)\n",
      "conv3_3 :  (3, 3, 256, 256)\n",
      "conv4_1 :  (3, 3, 256, 512)\n",
      "conv4_2 :  (3, 3, 512, 512)\n",
      "conv4_3 :  (3, 3, 512, 512)\n",
      "conv5_1 :  (3, 3, 512, 512)\n",
      "conv5_2 :  (3, 3, 512, 512)\n",
      "conv5_3 :  (3, 3, 512, 512)\n",
      "fc6 :  (7, 7, 512, 4096)\n",
      "fc7 :  (1, 1, 4096, 4096)\n",
      "fc8 :  (1, 1, 4096, 2622)\n"
     ]
    }
   ],
   "source": [
    "for i in range(num_of_ref_model_layers):\n",
    "    ref_model_layer = ref_model_layers[i][0,0].name[0]\n",
    "    \n",
    "    try:\n",
    "        weights = ref_model_layers[i][0,0].weights[0,0]\n",
    "        print(ref_model_layer,\": \",weights.shape)\n",
    "    except:\n",
    "        #print(ref_model_layer)\n",
    "        print(\"\",end='')"
   ]
  },
  {
   "cell_type": "markdown",
   "metadata": {
    "id": "rRzzbT74pvz2"
   },
   "source": [
    "# Base Model"
   ]
  },
  {
   "cell_type": "code",
   "execution_count": 13,
   "metadata": {
    "executionInfo": {
     "elapsed": 8564,
     "status": "ok",
     "timestamp": 1604748844090,
     "user": {
      "displayName": "Gordon Yeh",
      "photoUrl": "",
      "userId": "04228464037500899416"
     },
     "user_tz": 300
    },
    "id": "s-Ihlk98pvz3"
   },
   "outputs": [],
   "source": [
    "import warnings\n",
    "warnings.filterwarnings('ignore')\n",
    "\n",
    "base_model = Sequential()\n",
    "base_model.add(ZeroPadding2D((1,1),input_shape=(224,224, 3)))\n",
    "base_model.add(Convolution2D(64, (3, 3), name= 'conv1_1'))\n",
    "base_model.add(Activation('relu', name='relu1_1'))\n",
    "base_model.add(ZeroPadding2D((1,1)))\n",
    "base_model.add(Convolution2D(64, (3, 3), name= 'conv1_2'))\n",
    "base_model.add(Activation('relu', name='relu1_2'))\n",
    "base_model.add(MaxPooling2D((2,2), strides=(2,2), name='pool1'))\n",
    "\n",
    "base_model.add(ZeroPadding2D((1,1)))\n",
    "base_model.add(Convolution2D(128, (3, 3), name= 'conv2_1'))\n",
    "base_model.add(Activation('relu', name='relu2_1'))\n",
    "base_model.add(ZeroPadding2D((1,1)))\n",
    "base_model.add(Convolution2D(128, (3, 3), name= 'conv2_2'))\n",
    "base_model.add(Activation('relu', name='relu2_2'))\n",
    "base_model.add(MaxPooling2D((2,2), strides=(2,2), name='pool2'))\n",
    "\n",
    "base_model.add(ZeroPadding2D((1,1)))\n",
    "base_model.add(Convolution2D(256, (3, 3), name= 'conv3_1'))\n",
    "base_model.add(Activation('relu', name='relu3_1'))\n",
    "base_model.add(ZeroPadding2D((1,1)))\n",
    "base_model.add(Convolution2D(256, (3, 3), name= 'conv3_2'))\n",
    "base_model.add(Activation('relu', name='relu3_2'))\n",
    "base_model.add(ZeroPadding2D((1,1)))\n",
    "base_model.add(Convolution2D(256, (3, 3), name= 'conv3_3'))\n",
    "base_model.add(Activation('relu', name='relu3_3'))\n",
    "base_model.add(MaxPooling2D((2,2), strides=(2,2), name='pool3'))\n",
    "\n",
    "base_model.add(ZeroPadding2D((1,1)))\n",
    "base_model.add(Convolution2D(512, (3, 3), name= 'conv4_1'))\n",
    "base_model.add(Activation('relu', name='relu4_1'))\n",
    "base_model.add(ZeroPadding2D((1,1)))\n",
    "base_model.add(Convolution2D(512, (3, 3), name= 'conv4_2'))\n",
    "base_model.add(Activation('relu', name='relu4_2'))\n",
    "base_model.add(ZeroPadding2D((1,1)))\n",
    "base_model.add(Convolution2D(512, (3, 3), name= 'conv4_3'))\n",
    "base_model.add(Activation('relu', name='relu4_3'))\n",
    "base_model.add(MaxPooling2D((2,2), strides=(2,2), name='pool4'))\n",
    "\n",
    "base_model.add(ZeroPadding2D((1,1)))\n",
    "base_model.add(Convolution2D(512, (3, 3), name= 'conv5_1'))\n",
    "base_model.add(Activation('relu', name='relu5_1'))\n",
    "base_model.add(ZeroPadding2D((1,1)))\n",
    "base_model.add(Convolution2D(512, (3, 3), name= 'conv5_2'))\n",
    "base_model.add(Activation('relu', name='relu5_2'))\n",
    "base_model.add(ZeroPadding2D((1,1)))\n",
    "base_model.add(Convolution2D(512, (3, 3), name= 'conv5_3'))\n",
    "base_model.add(Activation('relu', name='relu5_3'))\n",
    "base_model.add(MaxPooling2D((2,2), strides=(2,2), name='pool5'))\n",
    "base_model.trainable = False\n",
    "\n",
    "model = Sequential()\n",
    "model.add(base_model)\n",
    "model.add(Convolution2D(512, (7, 7), name= 'fc6'))\n",
    "model.add(Activation('relu', name='relu6'))\n",
    "model.add(Dropout(0.5, name='dropout6'))\n",
    "model.add(Convolution2D(512, (1, 1), name= 'fc7'))\n",
    "model.add(Activation('relu', name='relu7'))\n",
    "model.add(Dropout(0.5, name='dropout7'))\n",
    "# model.add(Convolution2D(2622, (1, 1), name= 'fc8'))\n",
    "model.add(Convolution2D(1, (1, 1), name= 'fc8'))\n",
    "# model.add(Activation('relu'))\n",
    "model.add(Flatten())\n",
    "model.add(BatchNormalization())\n",
    "model.add(Activation('sigmoid', name= 'sigmoid'))"
   ]
  },
  {
   "cell_type": "code",
   "execution_count": 14,
   "metadata": {
    "colab": {
     "base_uri": "https://localhost:8080/"
    },
    "executionInfo": {
     "elapsed": 8559,
     "status": "ok",
     "timestamp": 1604748844091,
     "user": {
      "displayName": "Gordon Yeh",
      "photoUrl": "",
      "userId": "04228464037500899416"
     },
     "user_tz": 300
    },
    "id": "eOwnWPyUpv0G",
    "outputId": "3957e6f9-c0ef-4315-a942-0e1d93a8eeaf"
   },
   "outputs": [
    {
     "name": "stdout",
     "output_type": "stream",
     "text": [
      "0 .  conv1_1\n",
      "2 .  conv1_2\n",
      "5 .  conv2_1\n",
      "7 .  conv2_2\n",
      "10 .  conv3_1\n",
      "12 .  conv3_2\n",
      "14 .  conv3_3\n",
      "17 .  conv4_1\n",
      "19 .  conv4_2\n",
      "21 .  conv4_3\n",
      "24 .  conv5_1\n",
      "26 .  conv5_2\n",
      "28 .  conv5_3\n",
      "31 .  fc6\n",
      "34 .  fc7\n",
      "37 .  fc8\n"
     ]
    }
   ],
   "source": [
    "for i in range(num_of_ref_model_layers):\n",
    "    ref_model_layer = ref_model_layers[i][0,0].name[0]\n",
    "    if ref_model_layer in base_model_layer_names:\n",
    "        #we just need to set convolution and fully connected weights\n",
    "        if ref_model_layer.find(\"conv\") == 0:\n",
    "            print(i,\". \",ref_model_layer)\n",
    "            base_model_index = basemodel_layer_names.index(ref_model_layer)\n",
    "            weights = ref_model_layers[i][0,0].weights[0,0]\n",
    "            bias = ref_model_layers[i][0,0].weights[0,1]\n",
    "            base_model.layers[base_model_index].set_weights([weights, bias[:,0]])\n",
    "        elif ref_model_layer.find(\"fc\") == 0:\n",
    "            print(i,\". \",ref_model_layer)\n",
    "            try:\n",
    "              model_index = model_layer_names.index(ref_model_layer)+1\n",
    "              weights = ref_model_layers[i][0,0].weights[0,0]\n",
    "              bias = ref_model_layers[i][0,0].weights[0,1]\n",
    "              model.layers[model_index].set_weights([weights, bias[:,0]])\n",
    "            except: pass"
   ]
  },
  {
   "cell_type": "code",
   "execution_count": 15,
   "metadata": {
    "executionInfo": {
     "elapsed": 8559,
     "status": "ok",
     "timestamp": 1604748844092,
     "user": {
      "displayName": "Gordon Yeh",
      "photoUrl": "",
      "userId": "04228464037500899416"
     },
     "user_tz": 300
    },
    "id": "8XqKSNfnMb1L"
   },
   "outputs": [],
   "source": [
    "# model.summary()"
   ]
  },
  {
   "cell_type": "code",
   "execution_count": 16,
   "metadata": {
    "executionInfo": {
     "elapsed": 8716,
     "status": "ok",
     "timestamp": 1604748844251,
     "user": {
      "displayName": "Gordon Yeh",
      "photoUrl": "",
      "userId": "04228464037500899416"
     },
     "user_tz": 300
    },
    "id": "0bmrnmuEhB-Z"
   },
   "outputs": [],
   "source": [
    "# from keras.preprocessing.image import load_img\n",
    "# from keras.preprocessing.image import img_to_array\n",
    "# from keras.applications.vgg16 import preprocess_input\n",
    "# image = load_img('./data/train/F/2314_1956-07-30_2014.jpg', target_size=(224, 224))\n",
    "# image = img_to_array(image)\n",
    "# image = image.reshape((1, image.shape[0], image.shape[1], image.shape[2]))\n",
    "# image = preprocess_input(image)/225"
   ]
  },
  {
   "cell_type": "code",
   "execution_count": 17,
   "metadata": {
    "executionInfo": {
     "elapsed": 8715,
     "status": "ok",
     "timestamp": 1604748844252,
     "user": {
      "displayName": "Gordon Yeh",
      "photoUrl": "",
      "userId": "04228464037500899416"
     },
     "user_tz": 300
    },
    "id": "vkV5ssCfhtzL"
   },
   "outputs": [],
   "source": [
    "# model.compile(loss='binary_crossentropy',optimizer='rmsprop',metrics=['accuracy'])\n",
    "# model.predict(image)"
   ]
  },
  {
   "cell_type": "code",
   "execution_count": 18,
   "metadata": {
    "executionInfo": {
     "elapsed": 8714,
     "status": "ok",
     "timestamp": 1604748844253,
     "user": {
      "displayName": "Gordon Yeh",
      "photoUrl": "",
      "userId": "04228464037500899416"
     },
     "user_tz": 300
    },
    "id": "eUX2hWxwh7rT"
   },
   "outputs": [],
   "source": [
    "# model.fit(x = image, y = [0], epochs = 3)"
   ]
  },
  {
   "cell_type": "code",
   "execution_count": 19,
   "metadata": {
    "executionInfo": {
     "elapsed": 8710,
     "status": "ok",
     "timestamp": 1604748844254,
     "user": {
      "displayName": "Gordon Yeh",
      "photoUrl": "",
      "userId": "04228464037500899416"
     },
     "user_tz": 300
    },
    "id": "isT6Y3nRigJT"
   },
   "outputs": [],
   "source": [
    "# model.predict(image)"
   ]
  },
  {
   "cell_type": "markdown",
   "metadata": {
    "id": "OO5gVEl-pv0J"
   },
   "source": [
    "# Import pictures data"
   ]
  },
  {
   "cell_type": "code",
   "execution_count": 20,
   "metadata": {
    "colab": {
     "base_uri": "https://localhost:8080/"
    },
    "executionInfo": {
     "elapsed": 3858,
     "status": "ok",
     "timestamp": 1604748845858,
     "user": {
      "displayName": "Gordon Yeh",
      "photoUrl": "",
      "userId": "04228464037500899416"
     },
     "user_tz": 300
    },
    "id": "eZXuaIGy0kAu",
    "outputId": "05b4b2f1-e436-4a41-bf9c-9d7716240417"
   },
   "outputs": [
    {
     "name": "stdout",
     "output_type": "stream",
     "text": [
      "11450\n",
      "12101\n",
      "1431\n",
      "1512\n",
      "1431\n",
      "1512\n"
     ]
    }
   ],
   "source": [
    "# !mkdir ./data/train/\n",
    "# !mkdir ./data/valid/\n",
    "# !mkdir ./data/test/\n",
    "# !mkdir ./data/train/M\n",
    "# !mkdir ./data/train/F\n",
    "# !mkdir ./data/valid/M\n",
    "# !mkdir ./data/valid/F\n",
    "# !mkdir ./data/test/M\n",
    "# !mkdir ./data/test/F\n",
    "# !mv -v ./combined/aligned/*F/* ./data/train/F/\n",
    "# !mv -v ./combined/aligned/*M/* ./data/train/M/\n",
    "# !ls ./data/train/F | wc -l \n",
    "# !ls ./data/train/M | wc -l \n",
    "''' Take 10% into valid, 10% into test '''\n",
    "# os.chdir(\"./data/train/F\")\n",
    "# !ls | shuf -n 1431 | xargs -i mv {} ../../valid/F\n",
    "# !ls | shuf -n 1431 | xargs -i mv {} ../../test/F\n",
    "# os.chdir(\"../../../\")\n",
    "# os.chdir(\"./data/train/M\")\n",
    "# !ls | shuf -n 1512 | xargs -i mv {} ../../valid/M\n",
    "# !ls | shuf -n 1512 | xargs -i mv {} ../../test/M\n",
    "# os.chdir(\"../../../\")\n",
    "\n",
    "!ls ./data/train/F | wc -l \n",
    "!ls ./data/train/M | wc -l \n",
    "!ls ./data/valid/F | wc -l \n",
    "!ls ./data/valid/M | wc -l \n",
    "!ls ./data/test/F | wc -l \n",
    "!ls ./data/test/M | wc -l \n",
    "\n",
    "# !mv -v ./data/test/M/* ./data/train/M/\n",
    "# !mv -v ./data/test/F/* ./data/train/F/\n",
    "# !mv -v ./data/valid/M/* ./data/train/M/\n",
    "# !mv -v ./data/valid/F/* ./data/train/F/"
   ]
  },
  {
   "cell_type": "code",
   "execution_count": 21,
   "metadata": {
    "executionInfo": {
     "elapsed": 3854,
     "status": "ok",
     "timestamp": 1604748845860,
     "user": {
      "displayName": "Gordon Yeh",
      "photoUrl": "",
      "userId": "04228464037500899416"
     },
     "user_tz": 300
    },
    "id": "3APfYkvqCgUu"
   },
   "outputs": [],
   "source": [
    "from keras.preprocessing.image import load_img\n",
    "from keras.preprocessing.image import img_to_array\n",
    "from keras.applications.vgg16 import preprocess_input\n",
    "from keras.preprocessing.image import ImageDataGenerator\n",
    "import numpy as np\n",
    "import os"
   ]
  },
  {
   "cell_type": "code",
   "execution_count": 65,
   "metadata": {
    "colab": {
     "base_uri": "https://localhost:8080/"
    },
    "executionInfo": {
     "elapsed": 24478,
     "status": "ok",
     "timestamp": 1604753238010,
     "user": {
      "displayName": "Gordon Yeh",
      "photoUrl": "",
      "userId": "04228464037500899416"
     },
     "user_tz": 300
    },
    "id": "73h7wJyHDkko",
    "outputId": "575440d8-9dcf-4525-db99-0d18ea4b0660"
   },
   "outputs": [
    {
     "name": "stdout",
     "output_type": "stream",
     "text": [
      "Found 23551 images belonging to 2 classes.\n",
      "Found 2943 images belonging to 2 classes.\n",
      "Found 2943 images belonging to 2 classes.\n",
      "Batch shape=(64, 224, 224, 3), min=0.000, max=1.000\n"
     ]
    }
   ],
   "source": [
    "# example of progressively loading images from file\n",
    "\n",
    "# create generator\n",
    "datagen = ImageDataGenerator(rescale=1./255)\n",
    "# prepare an iterators for each dataset\n",
    "train_it = datagen.flow_from_directory('data/train/', target_size=(224, 224), batch_size=64, class_mode='binary', shuffle=True)\n",
    "val_it = datagen.flow_from_directory('data/valid/', target_size=(224, 224), batch_size=32, class_mode='binary', shuffle=True)\n",
    "test_it = datagen.flow_from_directory('data/test/', target_size=(224, 224), batch_size=1, class_mode='binary', shuffle=False)\n",
    "# confirm the iterator works\n",
    "batchX, batchy = train_it.next()\n",
    "print('Batch shape=%s, min=%.3f, max=%.3f' % (batchX.shape, batchX.min(), batchX.max()))\n"
   ]
  },
  {
   "cell_type": "markdown",
   "metadata": {
    "id": "u5gN1v3BuqNX"
   },
   "source": [
    "# Train and Fine-tune "
   ]
  },
  {
   "cell_type": "code",
   "execution_count": null,
   "metadata": {
    "id": "emZGgWTOFMmD"
   },
   "outputs": [],
   "source": [
    "# model.summary()\n",
    "model.compile(loss='binary_crossentropy',optimizer='adam',metrics=['accuracy'])\n",
    "import keras\n",
    "class CustomSaver(keras.callbacks.Callback):\n",
    "    def on_epoch_end(self, epoch, logs={}):\n",
    "        self.model.save(\"./model{}.hd5\".format(epoch))\n",
    "saver = CustomSaver()"
   ]
  },
  {
   "cell_type": "code",
   "execution_count": null,
   "metadata": {
    "colab": {
     "base_uri": "https://localhost:8080/"
    },
    "executionInfo": {
     "elapsed": 33860658,
     "status": "ok",
     "timestamp": 1604745858870,
     "user": {
      "displayName": "Gordon Yeh",
      "photoUrl": "",
      "userId": "04228464037500899416"
     },
     "user_tz": 300
    },
    "id": "FrglsOcA9dkm",
    "outputId": "829f222b-ac93-4fa8-8a78-dedec145ffaa"
   },
   "outputs": [
    {
     "name": "stdout",
     "output_type": "stream",
     "text": [
      "WARNING:tensorflow:From <ipython-input-24-492cdf3d407c>:6: Model.fit_generator (from tensorflow.python.keras.engine.training) is deprecated and will be removed in a future version.\n",
      "Instructions for updating:\n",
      "Please use Model.fit, which supports generators.\n",
      "Epoch 1/3\n",
      "367/367 [==============================] - ETA: 0s - loss: 0.3415 - accuracy: 0.9411 WARNING:tensorflow:From /usr/local/lib/python3.6/dist-packages/tensorflow/python/training/tracking/tracking.py:111: Model.state_updates (from tensorflow.python.keras.engine.training) is deprecated and will be removed in a future version.\n",
      "Instructions for updating:\n",
      "This property should not be used in TensorFlow 2.0, as updates are applied automatically.\n",
      "WARNING:tensorflow:From /usr/local/lib/python3.6/dist-packages/tensorflow/python/training/tracking/tracking.py:111: Layer.updates (from tensorflow.python.keras.engine.base_layer) is deprecated and will be removed in a future version.\n",
      "Instructions for updating:\n",
      "This property should not be used in TensorFlow 2.0, as updates are applied automatically.\n",
      "INFO:tensorflow:Assets written to: ./model0.hd5/assets\n",
      "367/367 [==============================] - 12494s 34s/step - loss: 0.3415 - accuracy: 0.9411 - val_loss: 0.3143 - val_accuracy: 0.9375\n",
      "Epoch 2/3\n",
      "367/367 [==============================] - ETA: 0s - loss: 0.2549 - accuracy: 0.9664 INFO:tensorflow:Assets written to: ./model1.hd5/assets\n",
      "367/367 [==============================] - 12459s 34s/step - loss: 0.2549 - accuracy: 0.9664 - val_loss: 0.2350 - val_accuracy: 0.9625\n",
      "Epoch 3/3\n",
      "367/367 [==============================] - ETA: 0s - loss: 0.1996 - accuracy: 0.9767 INFO:tensorflow:Assets written to: ./model2.hd5/assets\n",
      "367/367 [==============================] - 12505s 34s/step - loss: 0.1996 - accuracy: 0.9767 - val_loss: 0.1724 - val_accuracy: 0.9625\n"
     ]
    },
    {
     "data": {
      "text/plain": [
       "<tensorflow.python.keras.callbacks.History at 0x7f7dbe585a90>"
      ]
     },
     "execution_count": 24,
     "metadata": {
      "tags": []
     },
     "output_type": "execute_result"
    }
   ],
   "source": [
    "model.fit_generator(train_it, \n",
    "                    steps_per_epoch=367, \n",
    "                    validation_data=val_it, \n",
    "                    validation_steps=5, \n",
    "                    callbacks=[saver], \n",
    "                    epochs = 3)"
   ]
  },
  {
   "cell_type": "code",
   "execution_count": 23,
   "metadata": {
    "executionInfo": {
     "elapsed": 8538,
     "status": "ok",
     "timestamp": 1604748879965,
     "user": {
      "displayName": "Gordon Yeh",
      "photoUrl": "",
      "userId": "04228464037500899416"
     },
     "user_tz": 300
    },
    "id": "gCO6pS4qd-IZ"
   },
   "outputs": [],
   "source": [
    "model = load_model(\"./model2.hd5\")"
   ]
  },
  {
   "cell_type": "code",
   "execution_count": 70,
   "metadata": {
    "executionInfo": {
     "elapsed": 1527111,
     "status": "ok",
     "timestamp": 1604754840650,
     "user": {
      "displayName": "Gordon Yeh",
      "photoUrl": "",
      "userId": "04228464037500899416"
     },
     "user_tz": 300
    },
    "id": "TB7oUT3Ev4uS"
   },
   "outputs": [],
   "source": [
    "from sklearn.metrics import classification_report, confusion_matrix\n",
    "Y_pred = model.predict_generator(test_it, 2943)\n",
    "y_pred = [0 if i < 0.5 else 1 for i in Y_pred]"
   ]
  },
  {
   "cell_type": "code",
   "execution_count": 26,
   "metadata": {
    "colab": {
     "base_uri": "https://localhost:8080/"
    },
    "executionInfo": {
     "elapsed": 335,
     "status": "ok",
     "timestamp": 1604748887706,
     "user": {
      "displayName": "Gordon Yeh",
      "photoUrl": "",
      "userId": "04228464037500899416"
     },
     "user_tz": 300
    },
    "id": "13viRBNPc_Dn",
    "outputId": "ae1120b6-ba08-4e35-a009-0a5233032df2"
   },
   "outputs": [
    {
     "data": {
      "text/plain": [
       "{0: 1431, 1: 1512}"
      ]
     },
     "execution_count": 26,
     "metadata": {
      "tags": []
     },
     "output_type": "execute_result"
    }
   ],
   "source": [
    "unique, counts = np.unique(test_it.classes, return_counts=True)\n",
    "dict(zip(unique, counts))"
   ]
  },
  {
   "cell_type": "code",
   "execution_count": 71,
   "metadata": {
    "colab": {
     "base_uri": "https://localhost:8080/"
    },
    "executionInfo": {
     "elapsed": 446,
     "status": "ok",
     "timestamp": 1604754841160,
     "user": {
      "displayName": "Gordon Yeh",
      "photoUrl": "",
      "userId": "04228464037500899416"
     },
     "user_tz": 300
    },
    "id": "9wpTHwU7VUcs",
    "outputId": "8a728518-5687-423d-f046-146d0b43564b"
   },
   "outputs": [
    {
     "name": "stdout",
     "output_type": "stream",
     "text": [
      "Confusion Matrix\n",
      "[[1388   43]\n",
      " [  62 1450]]\n",
      "              precision    recall  f1-score   support\n",
      "\n",
      "      Female       0.96      0.97      0.96      1431\n",
      "        Male       0.97      0.96      0.97      1512\n",
      "\n",
      "    accuracy                           0.96      2943\n",
      "   macro avg       0.96      0.96      0.96      2943\n",
      "weighted avg       0.96      0.96      0.96      2943\n",
      "\n"
     ]
    }
   ],
   "source": [
    "print('Confusion Matrix')\n",
    "print(confusion_matrix(test_it.classes, y_pred))\n",
    "target_names = list(test_it.class_indices.keys())   \n",
    "print(classification_report(test_it.classes, y_pred, target_names=target_names))"
   ]
  },
  {
   "cell_type": "code",
   "execution_count": 72,
   "metadata": {
    "colab": {
     "base_uri": "https://localhost:8080/"
    },
    "executionInfo": {
     "elapsed": 361,
     "status": "ok",
     "timestamp": 1604754841938,
     "user": {
      "displayName": "Gordon Yeh",
      "photoUrl": "",
      "userId": "04228464037500899416"
     },
     "user_tz": 300
    },
    "id": "JUMSO9h3wzxg",
    "outputId": "d291003d-c621-4b85-8345-bfda8e242f21"
   },
   "outputs": [
    {
     "name": "stdout",
     "output_type": "stream",
     "text": [
      "1388 43 62 1450\n"
     ]
    }
   ],
   "source": [
    "tn, fp, fn, tp = confusion_matrix(test_it.classes, y_pred).ravel()\n",
    "print(tn, fp, fn, tp)"
   ]
  },
  {
   "cell_type": "code",
   "execution_count": 30,
   "metadata": {
    "colab": {
     "base_uri": "https://localhost:8080/"
    },
    "executionInfo": {
     "elapsed": 159974,
     "status": "ok",
     "timestamp": 1604750586145,
     "user": {
      "displayName": "Gordon Yeh",
      "photoUrl": "",
      "userId": "04228464037500899416"
     },
     "user_tz": 300
    },
    "id": "UTBxcaE4NwCm",
    "outputId": "6c9c1373-5a52-4d5f-ae74-e383f091b4dd"
   },
   "outputs": [
    {
     "name": "stdout",
     "output_type": "stream",
     "text": [
      "WARNING:tensorflow:From <ipython-input-30-24866ec457c3>:1: Model.evaluate_generator (from tensorflow.python.keras.engine.training) is deprecated and will be removed in a future version.\n",
      "Instructions for updating:\n",
      "Please use Model.evaluate, which supports generators.\n"
     ]
    },
    {
     "data": {
      "text/plain": [
       "[0.1511135995388031, 0.965624988079071]"
      ]
     },
     "execution_count": 30,
     "metadata": {
      "tags": []
     },
     "output_type": "execute_result"
    }
   ],
   "source": [
    "model.evaluate_generator(test_it, 92)"
   ]
  },
  {
   "cell_type": "code",
   "execution_count": null,
   "metadata": {
    "id": "QokAGdioIyzd"
   },
   "outputs": [],
   "source": [
    "# steps_per_epoch * batch_size = number_of_rows_in_train_data\n",
    "# https://sefiks.com/2019/07/15/how-to-convert-matlab-models-to-keras/\n",
    "# https://keras.io/api/preprocessing/image/#imagedatagenerator-class"
   ]
  }
 ],
 "metadata": {
  "colab": {
   "collapsed_sections": [
    "vOCeR0_7M4X1",
    "4RdB9pDuNfWB",
    "rRzzbT74pvz2"
   ],
   "name": "OA_mat.ipynb",
   "provenance": [],
   "toc_visible": true
  },
  "kernelspec": {
   "display_name": "Python 3",
   "language": "python",
   "name": "python3"
  },
  "language_info": {
   "codemirror_mode": {
    "name": "ipython",
    "version": 3
   },
   "file_extension": ".py",
   "mimetype": "text/x-python",
   "name": "python",
   "nbconvert_exporter": "python",
   "pygments_lexer": "ipython3",
   "version": "3.7.8"
  }
 },
 "nbformat": 4,
 "nbformat_minor": 1
}
